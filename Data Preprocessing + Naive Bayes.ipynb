{
 "cells": [
  {
   "cell_type": "code",
   "execution_count": 2,
   "metadata": {},
   "outputs": [],
   "source": [
    "import pandas as pd\n",
    "import sklearn\n",
    "import numpy as np\n",
    "from pandas.plotting import scatter_matrix\n",
    "import matplotlib.pyplot as plt\n",
    "import re"
   ]
  },
  {
   "cell_type": "markdown",
   "metadata": {},
   "source": [
    "### Load the Data"
   ]
  },
  {
   "cell_type": "code",
   "execution_count": 2,
   "metadata": {},
   "outputs": [],
   "source": [
    "tv=pd.read_csv('TV_Commercials_Combines.csv')"
   ]
  },
  {
   "cell_type": "code",
   "execution_count": 3,
   "metadata": {},
   "outputs": [
    {
     "name": "stdout",
     "output_type": "stream",
     "text": [
      "18063\n"
     ]
    },
    {
     "data": {
      "text/html": [
       "<div>\n",
       "<style scoped>\n",
       "    .dataframe tbody tr th:only-of-type {\n",
       "        vertical-align: middle;\n",
       "    }\n",
       "\n",
       "    .dataframe tbody tr th {\n",
       "        vertical-align: top;\n",
       "    }\n",
       "\n",
       "    .dataframe thead th {\n",
       "        text-align: right;\n",
       "    }\n",
       "</style>\n",
       "<table border=\"1\" class=\"dataframe\">\n",
       "  <thead>\n",
       "    <tr style=\"text-align: right;\">\n",
       "      <th></th>\n",
       "      <th>1</th>\n",
       "      <th>2</th>\n",
       "      <th>3</th>\n",
       "      <th>4</th>\n",
       "      <th>5</th>\n",
       "      <th>6</th>\n",
       "      <th>7</th>\n",
       "      <th>8</th>\n",
       "      <th>9</th>\n",
       "      <th>10</th>\n",
       "      <th>...</th>\n",
       "      <th>882</th>\n",
       "      <th>924</th>\n",
       "      <th>959</th>\n",
       "      <th>1002</th>\n",
       "      <th>1016</th>\n",
       "      <th>1048</th>\n",
       "      <th>1112</th>\n",
       "      <th>4124</th>\n",
       "      <th>4125</th>\n",
       "      <th>Label</th>\n",
       "    </tr>\n",
       "  </thead>\n",
       "  <tbody>\n",
       "    <tr>\n",
       "      <th>111622</th>\n",
       "      <td>34</td>\n",
       "      <td>7.221330</td>\n",
       "      <td>3.191483</td>\n",
       "      <td>23.518745</td>\n",
       "      <td>11.492748</td>\n",
       "      <td>0.012884</td>\n",
       "      <td>0.010939</td>\n",
       "      <td>0.070129</td>\n",
       "      <td>0.042020</td>\n",
       "      <td>3479.684814</td>\n",
       "      <td>...</td>\n",
       "      <td>NaN</td>\n",
       "      <td>NaN</td>\n",
       "      <td>0.017241</td>\n",
       "      <td>NaN</td>\n",
       "      <td>NaN</td>\n",
       "      <td>NaN</td>\n",
       "      <td>NaN</td>\n",
       "      <td>0.340551</td>\n",
       "      <td>0.263356</td>\n",
       "      <td>1</td>\n",
       "    </tr>\n",
       "    <tr>\n",
       "      <th>111623</th>\n",
       "      <td>26</td>\n",
       "      <td>6.180094</td>\n",
       "      <td>3.015362</td>\n",
       "      <td>32.932747</td>\n",
       "      <td>18.120752</td>\n",
       "      <td>0.013149</td>\n",
       "      <td>0.010831</td>\n",
       "      <td>0.075000</td>\n",
       "      <td>0.050982</td>\n",
       "      <td>3362.287354</td>\n",
       "      <td>...</td>\n",
       "      <td>NaN</td>\n",
       "      <td>NaN</td>\n",
       "      <td>NaN</td>\n",
       "      <td>NaN</td>\n",
       "      <td>NaN</td>\n",
       "      <td>NaN</td>\n",
       "      <td>NaN</td>\n",
       "      <td>0.969324</td>\n",
       "      <td>0.623752</td>\n",
       "      <td>1</td>\n",
       "    </tr>\n",
       "    <tr>\n",
       "      <th>111624</th>\n",
       "      <td>25</td>\n",
       "      <td>2.462173</td>\n",
       "      <td>1.541003</td>\n",
       "      <td>20.039402</td>\n",
       "      <td>18.033579</td>\n",
       "      <td>0.015869</td>\n",
       "      <td>0.011657</td>\n",
       "      <td>0.062625</td>\n",
       "      <td>0.042195</td>\n",
       "      <td>3317.864746</td>\n",
       "      <td>...</td>\n",
       "      <td>NaN</td>\n",
       "      <td>NaN</td>\n",
       "      <td>NaN</td>\n",
       "      <td>NaN</td>\n",
       "      <td>NaN</td>\n",
       "      <td>NaN</td>\n",
       "      <td>NaN</td>\n",
       "      <td>0.148112</td>\n",
       "      <td>0.780920</td>\n",
       "      <td>1</td>\n",
       "    </tr>\n",
       "    <tr>\n",
       "      <th>111625</th>\n",
       "      <td>37</td>\n",
       "      <td>6.194136</td>\n",
       "      <td>2.658522</td>\n",
       "      <td>22.864201</td>\n",
       "      <td>13.588374</td>\n",
       "      <td>0.017141</td>\n",
       "      <td>0.012120</td>\n",
       "      <td>0.078041</td>\n",
       "      <td>0.072270</td>\n",
       "      <td>3491.640137</td>\n",
       "      <td>...</td>\n",
       "      <td>NaN</td>\n",
       "      <td>0.015625</td>\n",
       "      <td>0.023438</td>\n",
       "      <td>NaN</td>\n",
       "      <td>NaN</td>\n",
       "      <td>NaN</td>\n",
       "      <td>0.007812</td>\n",
       "      <td>0.746379</td>\n",
       "      <td>0.403130</td>\n",
       "      <td>1</td>\n",
       "    </tr>\n",
       "    <tr>\n",
       "      <th>111626</th>\n",
       "      <td>25</td>\n",
       "      <td>4.367200</td>\n",
       "      <td>2.063856</td>\n",
       "      <td>31.797680</td>\n",
       "      <td>14.305157</td>\n",
       "      <td>0.013647</td>\n",
       "      <td>0.013007</td>\n",
       "      <td>0.107625</td>\n",
       "      <td>0.080645</td>\n",
       "      <td>3327.662109</td>\n",
       "      <td>...</td>\n",
       "      <td>NaN</td>\n",
       "      <td>NaN</td>\n",
       "      <td>0.025000</td>\n",
       "      <td>NaN</td>\n",
       "      <td>NaN</td>\n",
       "      <td>NaN</td>\n",
       "      <td>0.087500</td>\n",
       "      <td>0.572578</td>\n",
       "      <td>0.588162</td>\n",
       "      <td>1</td>\n",
       "    </tr>\n",
       "    <tr>\n",
       "      <th>...</th>\n",
       "      <td>...</td>\n",
       "      <td>...</td>\n",
       "      <td>...</td>\n",
       "      <td>...</td>\n",
       "      <td>...</td>\n",
       "      <td>...</td>\n",
       "      <td>...</td>\n",
       "      <td>...</td>\n",
       "      <td>...</td>\n",
       "      <td>...</td>\n",
       "      <td>...</td>\n",
       "      <td>...</td>\n",
       "      <td>...</td>\n",
       "      <td>...</td>\n",
       "      <td>...</td>\n",
       "      <td>...</td>\n",
       "      <td>...</td>\n",
       "      <td>...</td>\n",
       "      <td>...</td>\n",
       "      <td>...</td>\n",
       "      <td>...</td>\n",
       "    </tr>\n",
       "    <tr>\n",
       "      <th>129680</th>\n",
       "      <td>30</td>\n",
       "      <td>2.808389</td>\n",
       "      <td>1.475269</td>\n",
       "      <td>9.408182</td>\n",
       "      <td>3.851741</td>\n",
       "      <td>0.011282</td>\n",
       "      <td>0.010490</td>\n",
       "      <td>0.116250</td>\n",
       "      <td>0.075856</td>\n",
       "      <td>3421.109131</td>\n",
       "      <td>...</td>\n",
       "      <td>NaN</td>\n",
       "      <td>0.070000</td>\n",
       "      <td>0.040000</td>\n",
       "      <td>0.020000</td>\n",
       "      <td>0.030000</td>\n",
       "      <td>0.020000</td>\n",
       "      <td>NaN</td>\n",
       "      <td>0.840342</td>\n",
       "      <td>0.015348</td>\n",
       "      <td>1</td>\n",
       "    </tr>\n",
       "    <tr>\n",
       "      <th>129681</th>\n",
       "      <td>32</td>\n",
       "      <td>4.830225</td>\n",
       "      <td>1.974286</td>\n",
       "      <td>7.508844</td>\n",
       "      <td>3.180844</td>\n",
       "      <td>0.015507</td>\n",
       "      <td>0.014104</td>\n",
       "      <td>0.127734</td>\n",
       "      <td>0.071251</td>\n",
       "      <td>3479.608887</td>\n",
       "      <td>...</td>\n",
       "      <td>NaN</td>\n",
       "      <td>0.018519</td>\n",
       "      <td>0.009259</td>\n",
       "      <td>NaN</td>\n",
       "      <td>0.009259</td>\n",
       "      <td>0.027778</td>\n",
       "      <td>NaN</td>\n",
       "      <td>0.342186</td>\n",
       "      <td>0.555814</td>\n",
       "      <td>1</td>\n",
       "    </tr>\n",
       "    <tr>\n",
       "      <th>129682</th>\n",
       "      <td>32</td>\n",
       "      <td>5.308545</td>\n",
       "      <td>2.534434</td>\n",
       "      <td>10.520031</td>\n",
       "      <td>4.518093</td>\n",
       "      <td>0.017690</td>\n",
       "      <td>0.013312</td>\n",
       "      <td>0.104492</td>\n",
       "      <td>0.063117</td>\n",
       "      <td>3484.652588</td>\n",
       "      <td>...</td>\n",
       "      <td>NaN</td>\n",
       "      <td>0.009259</td>\n",
       "      <td>0.009259</td>\n",
       "      <td>NaN</td>\n",
       "      <td>NaN</td>\n",
       "      <td>0.009259</td>\n",
       "      <td>NaN</td>\n",
       "      <td>0.667208</td>\n",
       "      <td>0.821335</td>\n",
       "      <td>1</td>\n",
       "    </tr>\n",
       "    <tr>\n",
       "      <th>129683</th>\n",
       "      <td>42</td>\n",
       "      <td>0.426690</td>\n",
       "      <td>0.192054</td>\n",
       "      <td>2.405270</td>\n",
       "      <td>1.100260</td>\n",
       "      <td>0.013657</td>\n",
       "      <td>0.008062</td>\n",
       "      <td>0.106696</td>\n",
       "      <td>0.046419</td>\n",
       "      <td>3616.494629</td>\n",
       "      <td>...</td>\n",
       "      <td>NaN</td>\n",
       "      <td>NaN</td>\n",
       "      <td>NaN</td>\n",
       "      <td>0.013514</td>\n",
       "      <td>NaN</td>\n",
       "      <td>NaN</td>\n",
       "      <td>NaN</td>\n",
       "      <td>0.200665</td>\n",
       "      <td>0.354387</td>\n",
       "      <td>1</td>\n",
       "    </tr>\n",
       "    <tr>\n",
       "      <th>129684</th>\n",
       "      <td>97</td>\n",
       "      <td>0.684250</td>\n",
       "      <td>1.433648</td>\n",
       "      <td>4.603334</td>\n",
       "      <td>7.979573</td>\n",
       "      <td>0.012789</td>\n",
       "      <td>0.006696</td>\n",
       "      <td>0.111598</td>\n",
       "      <td>0.041409</td>\n",
       "      <td>3824.169434</td>\n",
       "      <td>...</td>\n",
       "      <td>NaN</td>\n",
       "      <td>NaN</td>\n",
       "      <td>NaN</td>\n",
       "      <td>0.002717</td>\n",
       "      <td>NaN</td>\n",
       "      <td>0.005435</td>\n",
       "      <td>NaN</td>\n",
       "      <td>0.534250</td>\n",
       "      <td>0.651417</td>\n",
       "      <td>1</td>\n",
       "    </tr>\n",
       "  </tbody>\n",
       "</table>\n",
       "<p>18063 rows × 205 columns</p>\n",
       "</div>"
      ],
      "text/plain": [
       "         1         2         3          4          5         6         7  \\\n",
       "111622  34  7.221330  3.191483  23.518745  11.492748  0.012884  0.010939   \n",
       "111623  26  6.180094  3.015362  32.932747  18.120752  0.013149  0.010831   \n",
       "111624  25  2.462173  1.541003  20.039402  18.033579  0.015869  0.011657   \n",
       "111625  37  6.194136  2.658522  22.864201  13.588374  0.017141  0.012120   \n",
       "111626  25  4.367200  2.063856  31.797680  14.305157  0.013647  0.013007   \n",
       "...     ..       ...       ...        ...        ...       ...       ...   \n",
       "129680  30  2.808389  1.475269   9.408182   3.851741  0.011282  0.010490   \n",
       "129681  32  4.830225  1.974286   7.508844   3.180844  0.015507  0.014104   \n",
       "129682  32  5.308545  2.534434  10.520031   4.518093  0.017690  0.013312   \n",
       "129683  42  0.426690  0.192054   2.405270   1.100260  0.013657  0.008062   \n",
       "129684  97  0.684250  1.433648   4.603334   7.979573  0.012789  0.006696   \n",
       "\n",
       "               8         9           10  ...  882       924       959  \\\n",
       "111622  0.070129  0.042020  3479.684814  ...  NaN       NaN  0.017241   \n",
       "111623  0.075000  0.050982  3362.287354  ...  NaN       NaN       NaN   \n",
       "111624  0.062625  0.042195  3317.864746  ...  NaN       NaN       NaN   \n",
       "111625  0.078041  0.072270  3491.640137  ...  NaN  0.015625  0.023438   \n",
       "111626  0.107625  0.080645  3327.662109  ...  NaN       NaN  0.025000   \n",
       "...          ...       ...          ...  ...  ...       ...       ...   \n",
       "129680  0.116250  0.075856  3421.109131  ...  NaN  0.070000  0.040000   \n",
       "129681  0.127734  0.071251  3479.608887  ...  NaN  0.018519  0.009259   \n",
       "129682  0.104492  0.063117  3484.652588  ...  NaN  0.009259  0.009259   \n",
       "129683  0.106696  0.046419  3616.494629  ...  NaN       NaN       NaN   \n",
       "129684  0.111598  0.041409  3824.169434  ...  NaN       NaN       NaN   \n",
       "\n",
       "            1002      1016      1048      1112      4124      4125  Label  \n",
       "111622       NaN       NaN       NaN       NaN  0.340551  0.263356      1  \n",
       "111623       NaN       NaN       NaN       NaN  0.969324  0.623752      1  \n",
       "111624       NaN       NaN       NaN       NaN  0.148112  0.780920      1  \n",
       "111625       NaN       NaN       NaN  0.007812  0.746379  0.403130      1  \n",
       "111626       NaN       NaN       NaN  0.087500  0.572578  0.588162      1  \n",
       "...          ...       ...       ...       ...       ...       ...    ...  \n",
       "129680  0.020000  0.030000  0.020000       NaN  0.840342  0.015348      1  \n",
       "129681       NaN  0.009259  0.027778       NaN  0.342186  0.555814      1  \n",
       "129682       NaN       NaN  0.009259       NaN  0.667208  0.821335      1  \n",
       "129683  0.013514       NaN       NaN       NaN  0.200665  0.354387      1  \n",
       "129684  0.002717       NaN  0.005435       NaN  0.534250  0.651417      1  \n",
       "\n",
       "[18063 rows x 205 columns]"
      ]
     },
     "execution_count": 3,
     "metadata": {},
     "output_type": "execute_result"
    }
   ],
   "source": [
    "duplicate = tv.duplicated()\n",
    "print(duplicate.sum())\n",
    "tv[duplicate]"
   ]
  },
  {
   "cell_type": "code",
   "execution_count": 4,
   "metadata": {},
   "outputs": [],
   "source": [
    "tv.drop_duplicates(keep=False,inplace=True) "
   ]
  },
  {
   "cell_type": "code",
   "execution_count": 5,
   "metadata": {},
   "outputs": [
    {
     "name": "stdout",
     "output_type": "stream",
     "text": [
      "0\n"
     ]
    },
    {
     "data": {
      "text/html": [
       "<div>\n",
       "<style scoped>\n",
       "    .dataframe tbody tr th:only-of-type {\n",
       "        vertical-align: middle;\n",
       "    }\n",
       "\n",
       "    .dataframe tbody tr th {\n",
       "        vertical-align: top;\n",
       "    }\n",
       "\n",
       "    .dataframe thead th {\n",
       "        text-align: right;\n",
       "    }\n",
       "</style>\n",
       "<table border=\"1\" class=\"dataframe\">\n",
       "  <thead>\n",
       "    <tr style=\"text-align: right;\">\n",
       "      <th></th>\n",
       "      <th>1</th>\n",
       "      <th>2</th>\n",
       "      <th>3</th>\n",
       "      <th>4</th>\n",
       "      <th>5</th>\n",
       "      <th>6</th>\n",
       "      <th>7</th>\n",
       "      <th>8</th>\n",
       "      <th>9</th>\n",
       "      <th>10</th>\n",
       "      <th>...</th>\n",
       "      <th>882</th>\n",
       "      <th>924</th>\n",
       "      <th>959</th>\n",
       "      <th>1002</th>\n",
       "      <th>1016</th>\n",
       "      <th>1048</th>\n",
       "      <th>1112</th>\n",
       "      <th>4124</th>\n",
       "      <th>4125</th>\n",
       "      <th>Label</th>\n",
       "    </tr>\n",
       "  </thead>\n",
       "  <tbody>\n",
       "  </tbody>\n",
       "</table>\n",
       "<p>0 rows × 205 columns</p>\n",
       "</div>"
      ],
      "text/plain": [
       "Empty DataFrame\n",
       "Columns: [1, 2, 3, 4, 5, 6, 7, 8, 9, 10, 11, 12, 13, 14, 15, 16, 17, 18, 19, 20, 21, 22, 23, 24, 25, 26, 27, 28, 29, 30, 31, 32, 33, 34, 35, 36, 37, 38, 39, 40, 41, 42, 43, 44, 45, 46, 47, 48, 49, 50, 51, 52, 53, 54, 55, 56, 57, 58, 59, 60, 61, 62, 63, 64, 65, 66, 67, 68, 69, 70, 71, 72, 73, 74, 75, 76, 77, 78, 79, 80, 81, 82, 83, 84, 85, 86, 87, 90, 91, 92, 93, 94, 95, 96, 97, 98, 99, 100, 101, 102, ...]\n",
       "Index: []\n",
       "\n",
       "[0 rows x 205 columns]"
      ]
     },
     "execution_count": 5,
     "metadata": {},
     "output_type": "execute_result"
    }
   ],
   "source": [
    "duplicate = tv.duplicated()\n",
    "print(duplicate.sum())\n",
    "tv[duplicate]"
   ]
  },
  {
   "cell_type": "markdown",
   "metadata": {},
   "source": [
    "### Seleksi Features dengan menghapus feature yang memiliki  nilai null > 25%"
   ]
  },
  {
   "cell_type": "code",
   "execution_count": 6,
   "metadata": {},
   "outputs": [
    {
     "name": "stdout",
     "output_type": "stream",
     "text": [
      "1        0.000000\n",
      "2        0.000000\n",
      "3        0.000000\n",
      "4        0.000000\n",
      "5        0.000000\n",
      "           ...   \n",
      "1048     0.575519\n",
      "1112     0.902799\n",
      "4124     0.000000\n",
      "4125     0.000000\n",
      "Label    0.000000\n",
      "Length: 205, dtype: float64\n"
     ]
    }
   ],
   "source": [
    "print(tv.isnull().sum()/tv.shape[0])"
   ]
  },
  {
   "cell_type": "code",
   "execution_count": 7,
   "metadata": {},
   "outputs": [],
   "source": [
    "df_dataset=tv.loc[:,((tv.isnull().sum()/tv.shape[0])*100)<25]"
   ]
  },
  {
   "cell_type": "markdown",
   "metadata": {},
   "source": [
    "Berdasarkan proses feature selection, dihasilkan 100 columns. Columns ini yang akan digunakan untuk membangun model klasifikasi"
   ]
  },
  {
   "cell_type": "code",
   "execution_count": 8,
   "metadata": {},
   "outputs": [
    {
     "data": {
      "text/plain": [
       "(93559, 98)"
      ]
     },
     "execution_count": 8,
     "metadata": {},
     "output_type": "execute_result"
    }
   ],
   "source": [
    "df_dataset.shape"
   ]
  },
  {
   "cell_type": "markdown",
   "metadata": {},
   "source": [
    "### Memetakan nomor kolom menjadi nama kolom"
   ]
  },
  {
   "cell_type": "code",
   "execution_count": 9,
   "metadata": {},
   "outputs": [],
   "source": [
    "MotionDist=[2,3]\n",
    "FrameDiff=[4,5]\n",
    "ShortTime=[6,7]\n",
    "ZCR=[8,9]\n",
    "SpectralCentroid=[10,11]\n",
    "SpectralRoll=[12,13]\n",
    "SpectralFlux=[14,15]\n",
    "FundamentalFreq=[16,17]\n",
    "EdgeChange=[4124,4125]\n",
    "MotionDistbins=[*range(18, 59)]\n",
    "FrameDiffbins=[*range(59, 92)]\n",
    "TextAreaDistbins=[*range(92, 123)]\n",
    "BagAudioWordsbins=[*range(123,4124)] \n",
    "l_MotionDist=list()\n",
    "\n",
    "for m in range(0,len(MotionDistbins)):\n",
    "    l_MotionDist.append(\"Motion Distribution bin_\"+ str(MotionDistbins[m]))\n",
    "\n",
    "l_FrameDiff=list()\n",
    "for f in range(0,len(FrameDiffbins)):\n",
    "    l_FrameDiff.append(\"Frame Difference bin_\"+ str(FrameDiffbins[f]))\n",
    "    \n",
    "\n",
    "l_TextArea=list()\n",
    "for t in range(0,len(TextAreaDistbins)):\n",
    "    l_TextArea.append(\"Text Area Distribution bin_\"+ str(TextAreaDistbins[t]))\n",
    "\n",
    "l_BagAudioWords=list()\n",
    "for b in range(0,len(BagAudioWordsbins)):\n",
    "    l_BagAudioWords.append(\"Bag Audio Words bin_\"+ str(BagAudioWordsbins[b]))\n",
    "    \n",
    "df_dict={ 1: \"Shot Length\" ,\n",
    "        MotionDist[0] : \"Motion Distribution Mean\",\n",
    "        MotionDist[1] : \"Motion Distribution Variance\",\n",
    "        FrameDiff[0]: 'Frame Difference Distribution Mean',\n",
    "        FrameDiff[1]: 'Frame Difference Distribution Variance',\n",
    "        ShortTime[0] : 'Short time energy Mean',\n",
    "        ShortTime[1] : 'Short time energy Variance',\n",
    "        ZCR[0] : 'ZCR Mean',\n",
    "        ZCR[1] : 'ZCR Variance',\n",
    "        SpectralCentroid[0]:'SpectralCentroid Mean',\n",
    "        SpectralCentroid[1]:'SpectralCentroid Variance',\n",
    "        SpectralRoll[0]: 'Spectral Roll off Mean',\n",
    "        SpectralRoll[1]: 'Spectral Roll off Variance',\n",
    "        SpectralFlux[0]:'Spectral Flux Mean',\n",
    "        SpectralFlux[1]:'Spectral Flux Variance',\n",
    "        FundamentalFreq[0]: 'Fundamental Frequecy Mean',\n",
    "        FundamentalFreq[1]:'Fundamental Frequecy Variance',\n",
    "        EdgeChange[0]:'Edge Change Ratio Mean',\n",
    "        EdgeChange[1]:'Edge Change Ratio Variance',       \n",
    "}\n",
    "\n",
    "for i in range(0,len(MotionDistbins)):\n",
    "    df_dict[MotionDistbins[i]] = l_MotionDist[i]\n",
    "    \n",
    "for j in range(0,len(FrameDiffbins)):\n",
    "    df_dict[FrameDiffbins[j]] = l_FrameDiff[j]\n",
    "    \n",
    "for k in range(0,len(TextAreaDistbins)):\n",
    "    df_dict[TextAreaDistbins[k]] = l_TextArea[k]\n",
    "\n",
    "for p in range(0,len(BagAudioWordsbins)):\n",
    "    df_dict[BagAudioWordsbins[p]] = l_BagAudioWords[p]"
   ]
  },
  {
   "cell_type": "code",
   "execution_count": 10,
   "metadata": {},
   "outputs": [],
   "source": [
    "namedict=df_dict\n",
    "cols=df_dataset.columns\n",
    "cols=[int(i) for i in cols[:-1]]\n",
    "colnames=[namedict[i] for i in cols]\n",
    "colnames.append('Label')"
   ]
  },
  {
   "cell_type": "code",
   "execution_count": 11,
   "metadata": {},
   "outputs": [],
   "source": [
    "df_dataset.columns=colnames"
   ]
  },
  {
   "cell_type": "code",
   "execution_count": 12,
   "metadata": {},
   "outputs": [
    {
     "name": "stdout",
     "output_type": "stream",
     "text": [
      "<class 'pandas.core.frame.DataFrame'>\n",
      "Int64Index: 93559 entries, 0 to 111621\n",
      "Data columns (total 98 columns):\n",
      " #   Column                                  Non-Null Count  Dtype  \n",
      "---  ------                                  --------------  -----  \n",
      " 0   Shot Length                             93559 non-null  int64  \n",
      " 1   Motion Distribution Mean                93559 non-null  float64\n",
      " 2   Motion Distribution Variance            93559 non-null  float64\n",
      " 3   Frame Difference Distribution Mean      93559 non-null  float64\n",
      " 4   Frame Difference Distribution Variance  93559 non-null  float64\n",
      " 5   Short time energy Mean                  93559 non-null  float64\n",
      " 6   Short time energy Variance              93559 non-null  float64\n",
      " 7   ZCR Mean                                93559 non-null  float64\n",
      " 8   ZCR Variance                            93559 non-null  float64\n",
      " 9   SpectralCentroid Mean                   93559 non-null  float64\n",
      " 10  SpectralCentroid Variance               93559 non-null  float64\n",
      " 11  Spectral Roll off Mean                  93559 non-null  float64\n",
      " 12  Spectral Roll off Variance              93559 non-null  float64\n",
      " 13  Spectral Flux Mean                      93559 non-null  float64\n",
      " 14  Spectral Flux Variance                  93559 non-null  float64\n",
      " 15  Fundamental Frequecy Mean               93559 non-null  float64\n",
      " 16  Fundamental Frequecy Variance           93559 non-null  float64\n",
      " 17  Motion Distribution bin_18              89546 non-null  float64\n",
      " 18  Motion Distribution bin_19              89545 non-null  float64\n",
      " 19  Motion Distribution bin_20              89543 non-null  float64\n",
      " 20  Motion Distribution bin_21              89543 non-null  float64\n",
      " 21  Motion Distribution bin_22              89507 non-null  float64\n",
      " 22  Motion Distribution bin_23              89452 non-null  float64\n",
      " 23  Motion Distribution bin_24              89404 non-null  float64\n",
      " 24  Motion Distribution bin_25              89310 non-null  float64\n",
      " 25  Motion Distribution bin_26              89133 non-null  float64\n",
      " 26  Motion Distribution bin_27              88983 non-null  float64\n",
      " 27  Motion Distribution bin_28              88816 non-null  float64\n",
      " 28  Motion Distribution bin_29              88672 non-null  float64\n",
      " 29  Motion Distribution bin_30              88492 non-null  float64\n",
      " 30  Motion Distribution bin_31              88342 non-null  float64\n",
      " 31  Motion Distribution bin_32              88161 non-null  float64\n",
      " 32  Motion Distribution bin_33              87949 non-null  float64\n",
      " 33  Motion Distribution bin_34              87721 non-null  float64\n",
      " 34  Motion Distribution bin_35              87394 non-null  float64\n",
      " 35  Motion Distribution bin_36              87144 non-null  float64\n",
      " 36  Motion Distribution bin_37              86833 non-null  float64\n",
      " 37  Motion Distribution bin_38              86516 non-null  float64\n",
      " 38  Motion Distribution bin_39              86161 non-null  float64\n",
      " 39  Motion Distribution bin_40              85777 non-null  float64\n",
      " 40  Motion Distribution bin_41              85295 non-null  float64\n",
      " 41  Motion Distribution bin_42              84776 non-null  float64\n",
      " 42  Motion Distribution bin_43              84316 non-null  float64\n",
      " 43  Motion Distribution bin_44              83840 non-null  float64\n",
      " 44  Motion Distribution bin_45              83355 non-null  float64\n",
      " 45  Motion Distribution bin_46              82898 non-null  float64\n",
      " 46  Motion Distribution bin_47              82415 non-null  float64\n",
      " 47  Motion Distribution bin_48              81884 non-null  float64\n",
      " 48  Motion Distribution bin_49              81371 non-null  float64\n",
      " 49  Motion Distribution bin_50              80803 non-null  float64\n",
      " 50  Motion Distribution bin_51              80242 non-null  float64\n",
      " 51  Motion Distribution bin_52              79677 non-null  float64\n",
      " 52  Motion Distribution bin_53              79137 non-null  float64\n",
      " 53  Motion Distribution bin_54              78553 non-null  float64\n",
      " 54  Motion Distribution bin_55              77978 non-null  float64\n",
      " 55  Motion Distribution bin_56              77483 non-null  float64\n",
      " 56  Motion Distribution bin_57              76877 non-null  float64\n",
      " 57  Motion Distribution bin_58              89546 non-null  float64\n",
      " 58  Frame Difference bin_59                 89545 non-null  float64\n",
      " 59  Frame Difference bin_60                 89545 non-null  float64\n",
      " 60  Frame Difference bin_61                 89545 non-null  float64\n",
      " 61  Frame Difference bin_62                 89545 non-null  float64\n",
      " 62  Frame Difference bin_63                 89537 non-null  float64\n",
      " 63  Frame Difference bin_64                 89510 non-null  float64\n",
      " 64  Frame Difference bin_65                 89485 non-null  float64\n",
      " 65  Frame Difference bin_66                 89450 non-null  float64\n",
      " 66  Frame Difference bin_67                 89411 non-null  float64\n",
      " 67  Frame Difference bin_68                 89385 non-null  float64\n",
      " 68  Frame Difference bin_69                 89332 non-null  float64\n",
      " 69  Frame Difference bin_70                 89285 non-null  float64\n",
      " 70  Frame Difference bin_71                 89233 non-null  float64\n",
      " 71  Frame Difference bin_72                 89131 non-null  float64\n",
      " 72  Frame Difference bin_73                 89017 non-null  float64\n",
      " 73  Frame Difference bin_74                 88901 non-null  float64\n",
      " 74  Frame Difference bin_75                 88725 non-null  float64\n",
      " 75  Frame Difference bin_76                 88446 non-null  float64\n",
      " 76  Frame Difference bin_77                 88014 non-null  float64\n",
      " 77  Frame Difference bin_78                 87466 non-null  float64\n",
      " 78  Frame Difference bin_79                 86838 non-null  float64\n",
      " 79  Frame Difference bin_80                 85796 non-null  float64\n",
      " 80  Frame Difference bin_81                 83997 non-null  float64\n",
      " 81  Frame Difference bin_82                 81563 non-null  float64\n",
      " 82  Frame Difference bin_83                 78045 non-null  float64\n",
      " 83  Frame Difference bin_84                 73123 non-null  float64\n",
      " 84  Text Area Distribution bin_102          87676 non-null  float64\n",
      " 85  Text Area Distribution bin_103          87848 non-null  float64\n",
      " 86  Text Area Distribution bin_104          85961 non-null  float64\n",
      " 87  Text Area Distribution bin_117          87676 non-null  float64\n",
      " 88  Text Area Distribution bin_118          87848 non-null  float64\n",
      " 89  Text Area Distribution bin_119          85961 non-null  float64\n",
      " 90  Bag Audio Words bin_491                 80486 non-null  float64\n",
      " 91  Bag Audio Words bin_572                 72399 non-null  float64\n",
      " 92  Bag Audio Words bin_573                 84151 non-null  float64\n",
      " 93  Bag Audio Words bin_623                 71367 non-null  float64\n",
      " 94  Bag Audio Words bin_816                 71443 non-null  float64\n",
      " 95  Edge Change Ratio Mean                  93559 non-null  float64\n",
      " 96  Edge Change Ratio Variance              93559 non-null  float64\n",
      " 97  Label                                   93559 non-null  int64  \n",
      "dtypes: float64(96), int64(2)\n",
      "memory usage: 70.7 MB\n"
     ]
    }
   ],
   "source": [
    "df_dataset.info()"
   ]
  },
  {
   "cell_type": "markdown",
   "metadata": {},
   "source": [
    "### Dataset mengandung nilai null sehingga data perlu dibersihkan dengan mengisi nilai Mean masing-masing kolom pada data null"
   ]
  },
  {
   "cell_type": "code",
   "execution_count": 13,
   "metadata": {},
   "outputs": [
    {
     "name": "stdout",
     "output_type": "stream",
     "text": [
      "True\n"
     ]
    }
   ],
   "source": [
    "print(df_dataset.isnull().values.any())"
   ]
  },
  {
   "cell_type": "code",
   "execution_count": 14,
   "metadata": {},
   "outputs": [],
   "source": [
    "# menghitung means dan kemudian mengisi nilai null\n",
    "column_means = df_dataset.mean()\n",
    "clean_dataset = df_dataset.fillna(column_means)"
   ]
  },
  {
   "cell_type": "code",
   "execution_count": 15,
   "metadata": {
    "scrolled": true
   },
   "outputs": [
    {
     "name": "stdout",
     "output_type": "stream",
     "text": [
      "False\n"
     ]
    }
   ],
   "source": [
    "# periksa kembali apakah masih ada data yang missing\n",
    "print(clean_dataset.isnull().values.any())"
   ]
  },
  {
   "cell_type": "code",
   "execution_count": 16,
   "metadata": {},
   "outputs": [
    {
     "data": {
      "text/html": [
       "<div>\n",
       "<style scoped>\n",
       "    .dataframe tbody tr th:only-of-type {\n",
       "        vertical-align: middle;\n",
       "    }\n",
       "\n",
       "    .dataframe tbody tr th {\n",
       "        vertical-align: top;\n",
       "    }\n",
       "\n",
       "    .dataframe thead th {\n",
       "        text-align: right;\n",
       "    }\n",
       "</style>\n",
       "<table border=\"1\" class=\"dataframe\">\n",
       "  <thead>\n",
       "    <tr style=\"text-align: right;\">\n",
       "      <th></th>\n",
       "      <th>Shot Length</th>\n",
       "      <th>Motion Distribution Mean</th>\n",
       "      <th>Motion Distribution Variance</th>\n",
       "      <th>Frame Difference Distribution Mean</th>\n",
       "      <th>Frame Difference Distribution Variance</th>\n",
       "      <th>Short time energy Mean</th>\n",
       "      <th>Short time energy Variance</th>\n",
       "      <th>ZCR Mean</th>\n",
       "      <th>ZCR Variance</th>\n",
       "      <th>SpectralCentroid Mean</th>\n",
       "      <th>...</th>\n",
       "      <th>Text Area Distribution bin_118</th>\n",
       "      <th>Text Area Distribution bin_119</th>\n",
       "      <th>Bag Audio Words bin_491</th>\n",
       "      <th>Bag Audio Words bin_572</th>\n",
       "      <th>Bag Audio Words bin_573</th>\n",
       "      <th>Bag Audio Words bin_623</th>\n",
       "      <th>Bag Audio Words bin_816</th>\n",
       "      <th>Edge Change Ratio Mean</th>\n",
       "      <th>Edge Change Ratio Variance</th>\n",
       "      <th>Label</th>\n",
       "    </tr>\n",
       "  </thead>\n",
       "  <tbody>\n",
       "    <tr>\n",
       "      <th>0</th>\n",
       "      <td>123</td>\n",
       "      <td>1.316440</td>\n",
       "      <td>1.516003</td>\n",
       "      <td>5.605905</td>\n",
       "      <td>5.346760</td>\n",
       "      <td>0.013233</td>\n",
       "      <td>0.010729</td>\n",
       "      <td>0.091743</td>\n",
       "      <td>0.050768</td>\n",
       "      <td>3808.067871</td>\n",
       "      <td>...</td>\n",
       "      <td>0.251688</td>\n",
       "      <td>0.176144</td>\n",
       "      <td>0.069915</td>\n",
       "      <td>0.141949</td>\n",
       "      <td>0.103814</td>\n",
       "      <td>0.050847</td>\n",
       "      <td>0.036017</td>\n",
       "      <td>0.422334</td>\n",
       "      <td>0.663918</td>\n",
       "      <td>1</td>\n",
       "    </tr>\n",
       "    <tr>\n",
       "      <th>1</th>\n",
       "      <td>124</td>\n",
       "      <td>0.966079</td>\n",
       "      <td>0.546420</td>\n",
       "      <td>4.046537</td>\n",
       "      <td>3.190973</td>\n",
       "      <td>0.008338</td>\n",
       "      <td>0.011490</td>\n",
       "      <td>0.075504</td>\n",
       "      <td>0.065841</td>\n",
       "      <td>3466.266113</td>\n",
       "      <td>...</td>\n",
       "      <td>0.206926</td>\n",
       "      <td>0.051774</td>\n",
       "      <td>0.075630</td>\n",
       "      <td>0.012605</td>\n",
       "      <td>0.037815</td>\n",
       "      <td>0.086134</td>\n",
       "      <td>0.023109</td>\n",
       "      <td>0.332664</td>\n",
       "      <td>0.766184</td>\n",
       "      <td>1</td>\n",
       "    </tr>\n",
       "    <tr>\n",
       "      <th>2</th>\n",
       "      <td>109</td>\n",
       "      <td>2.035407</td>\n",
       "      <td>0.571643</td>\n",
       "      <td>9.551406</td>\n",
       "      <td>5.803685</td>\n",
       "      <td>0.015189</td>\n",
       "      <td>0.014294</td>\n",
       "      <td>0.094209</td>\n",
       "      <td>0.044991</td>\n",
       "      <td>3798.196533</td>\n",
       "      <td>...</td>\n",
       "      <td>0.185767</td>\n",
       "      <td>0.038852</td>\n",
       "      <td>0.069712</td>\n",
       "      <td>0.038462</td>\n",
       "      <td>0.088942</td>\n",
       "      <td>0.139423</td>\n",
       "      <td>0.052885</td>\n",
       "      <td>0.346674</td>\n",
       "      <td>0.225022</td>\n",
       "      <td>1</td>\n",
       "    </tr>\n",
       "    <tr>\n",
       "      <th>3</th>\n",
       "      <td>86</td>\n",
       "      <td>3.206008</td>\n",
       "      <td>0.786326</td>\n",
       "      <td>10.092709</td>\n",
       "      <td>2.693058</td>\n",
       "      <td>0.013962</td>\n",
       "      <td>0.011039</td>\n",
       "      <td>0.092042</td>\n",
       "      <td>0.043756</td>\n",
       "      <td>3761.712402</td>\n",
       "      <td>...</td>\n",
       "      <td>0.165600</td>\n",
       "      <td>0.003983</td>\n",
       "      <td>0.135802</td>\n",
       "      <td>0.012346</td>\n",
       "      <td>0.086420</td>\n",
       "      <td>0.212963</td>\n",
       "      <td>0.077160</td>\n",
       "      <td>0.993323</td>\n",
       "      <td>0.840083</td>\n",
       "      <td>1</td>\n",
       "    </tr>\n",
       "    <tr>\n",
       "      <th>4</th>\n",
       "      <td>76</td>\n",
       "      <td>3.135861</td>\n",
       "      <td>0.896346</td>\n",
       "      <td>10.348035</td>\n",
       "      <td>2.651010</td>\n",
       "      <td>0.020914</td>\n",
       "      <td>0.012061</td>\n",
       "      <td>0.108018</td>\n",
       "      <td>0.052617</td>\n",
       "      <td>3784.488037</td>\n",
       "      <td>...</td>\n",
       "      <td>0.159495</td>\n",
       "      <td>0.000066</td>\n",
       "      <td>0.021127</td>\n",
       "      <td>0.007042</td>\n",
       "      <td>0.154930</td>\n",
       "      <td>0.151408</td>\n",
       "      <td>0.017606</td>\n",
       "      <td>0.341520</td>\n",
       "      <td>0.710470</td>\n",
       "      <td>1</td>\n",
       "    </tr>\n",
       "    <tr>\n",
       "      <th>...</th>\n",
       "      <td>...</td>\n",
       "      <td>...</td>\n",
       "      <td>...</td>\n",
       "      <td>...</td>\n",
       "      <td>...</td>\n",
       "      <td>...</td>\n",
       "      <td>...</td>\n",
       "      <td>...</td>\n",
       "      <td>...</td>\n",
       "      <td>...</td>\n",
       "      <td>...</td>\n",
       "      <td>...</td>\n",
       "      <td>...</td>\n",
       "      <td>...</td>\n",
       "      <td>...</td>\n",
       "      <td>...</td>\n",
       "      <td>...</td>\n",
       "      <td>...</td>\n",
       "      <td>...</td>\n",
       "      <td>...</td>\n",
       "      <td>...</td>\n",
       "    </tr>\n",
       "    <tr>\n",
       "      <th>111617</th>\n",
       "      <td>84</td>\n",
       "      <td>0.571141</td>\n",
       "      <td>0.429302</td>\n",
       "      <td>5.601481</td>\n",
       "      <td>4.493654</td>\n",
       "      <td>0.016669</td>\n",
       "      <td>0.010648</td>\n",
       "      <td>0.113988</td>\n",
       "      <td>0.045117</td>\n",
       "      <td>3736.336670</td>\n",
       "      <td>...</td>\n",
       "      <td>0.066948</td>\n",
       "      <td>0.051338</td>\n",
       "      <td>0.041139</td>\n",
       "      <td>0.072785</td>\n",
       "      <td>0.303797</td>\n",
       "      <td>0.110759</td>\n",
       "      <td>0.069620</td>\n",
       "      <td>0.672047</td>\n",
       "      <td>0.647189</td>\n",
       "      <td>1</td>\n",
       "    </tr>\n",
       "    <tr>\n",
       "      <th>111618</th>\n",
       "      <td>25</td>\n",
       "      <td>1.242366</td>\n",
       "      <td>0.772255</td>\n",
       "      <td>19.877289</td>\n",
       "      <td>11.755177</td>\n",
       "      <td>0.016593</td>\n",
       "      <td>0.010652</td>\n",
       "      <td>0.097625</td>\n",
       "      <td>0.052185</td>\n",
       "      <td>3305.738037</td>\n",
       "      <td>...</td>\n",
       "      <td>0.101005</td>\n",
       "      <td>0.073604</td>\n",
       "      <td>0.050000</td>\n",
       "      <td>0.075000</td>\n",
       "      <td>0.537500</td>\n",
       "      <td>0.100000</td>\n",
       "      <td>0.012500</td>\n",
       "      <td>0.180709</td>\n",
       "      <td>0.103151</td>\n",
       "      <td>1</td>\n",
       "    </tr>\n",
       "    <tr>\n",
       "      <th>111619</th>\n",
       "      <td>64</td>\n",
       "      <td>0.566330</td>\n",
       "      <td>0.443887</td>\n",
       "      <td>5.739406</td>\n",
       "      <td>6.426752</td>\n",
       "      <td>0.015055</td>\n",
       "      <td>0.011919</td>\n",
       "      <td>0.098682</td>\n",
       "      <td>0.048214</td>\n",
       "      <td>3637.395508</td>\n",
       "      <td>...</td>\n",
       "      <td>0.085835</td>\n",
       "      <td>0.066839</td>\n",
       "      <td>0.076271</td>\n",
       "      <td>0.114407</td>\n",
       "      <td>0.161017</td>\n",
       "      <td>0.063559</td>\n",
       "      <td>0.008475</td>\n",
       "      <td>0.202583</td>\n",
       "      <td>0.046392</td>\n",
       "      <td>1</td>\n",
       "    </tr>\n",
       "    <tr>\n",
       "      <th>111620</th>\n",
       "      <td>71</td>\n",
       "      <td>0.815467</td>\n",
       "      <td>0.401193</td>\n",
       "      <td>3.989804</td>\n",
       "      <td>1.596751</td>\n",
       "      <td>0.019880</td>\n",
       "      <td>0.011590</td>\n",
       "      <td>0.109419</td>\n",
       "      <td>0.045566</td>\n",
       "      <td>3706.726074</td>\n",
       "      <td>...</td>\n",
       "      <td>0.064876</td>\n",
       "      <td>0.053495</td>\n",
       "      <td>0.037879</td>\n",
       "      <td>0.064394</td>\n",
       "      <td>0.352273</td>\n",
       "      <td>0.125000</td>\n",
       "      <td>0.045455</td>\n",
       "      <td>0.977861</td>\n",
       "      <td>0.410044</td>\n",
       "      <td>1</td>\n",
       "    </tr>\n",
       "    <tr>\n",
       "      <th>111621</th>\n",
       "      <td>389</td>\n",
       "      <td>0.199203</td>\n",
       "      <td>0.092751</td>\n",
       "      <td>1.948133</td>\n",
       "      <td>0.412519</td>\n",
       "      <td>0.015074</td>\n",
       "      <td>0.011384</td>\n",
       "      <td>0.115697</td>\n",
       "      <td>0.048854</td>\n",
       "      <td>3430.919189</td>\n",
       "      <td>...</td>\n",
       "      <td>0.055890</td>\n",
       "      <td>0.044086</td>\n",
       "      <td>0.026693</td>\n",
       "      <td>0.111328</td>\n",
       "      <td>0.236328</td>\n",
       "      <td>0.054036</td>\n",
       "      <td>0.037760</td>\n",
       "      <td>0.815039</td>\n",
       "      <td>0.932283</td>\n",
       "      <td>1</td>\n",
       "    </tr>\n",
       "  </tbody>\n",
       "</table>\n",
       "<p>93559 rows × 98 columns</p>\n",
       "</div>"
      ],
      "text/plain": [
       "        Shot Length  Motion Distribution Mean  Motion Distribution Variance  \\\n",
       "0               123                  1.316440                      1.516003   \n",
       "1               124                  0.966079                      0.546420   \n",
       "2               109                  2.035407                      0.571643   \n",
       "3                86                  3.206008                      0.786326   \n",
       "4                76                  3.135861                      0.896346   \n",
       "...             ...                       ...                           ...   \n",
       "111617           84                  0.571141                      0.429302   \n",
       "111618           25                  1.242366                      0.772255   \n",
       "111619           64                  0.566330                      0.443887   \n",
       "111620           71                  0.815467                      0.401193   \n",
       "111621          389                  0.199203                      0.092751   \n",
       "\n",
       "        Frame Difference Distribution Mean  \\\n",
       "0                                 5.605905   \n",
       "1                                 4.046537   \n",
       "2                                 9.551406   \n",
       "3                                10.092709   \n",
       "4                                10.348035   \n",
       "...                                    ...   \n",
       "111617                            5.601481   \n",
       "111618                           19.877289   \n",
       "111619                            5.739406   \n",
       "111620                            3.989804   \n",
       "111621                            1.948133   \n",
       "\n",
       "        Frame Difference Distribution Variance  Short time energy Mean  \\\n",
       "0                                     5.346760                0.013233   \n",
       "1                                     3.190973                0.008338   \n",
       "2                                     5.803685                0.015189   \n",
       "3                                     2.693058                0.013962   \n",
       "4                                     2.651010                0.020914   \n",
       "...                                        ...                     ...   \n",
       "111617                                4.493654                0.016669   \n",
       "111618                               11.755177                0.016593   \n",
       "111619                                6.426752                0.015055   \n",
       "111620                                1.596751                0.019880   \n",
       "111621                                0.412519                0.015074   \n",
       "\n",
       "        Short time energy Variance  ZCR Mean  ZCR Variance  \\\n",
       "0                         0.010729  0.091743      0.050768   \n",
       "1                         0.011490  0.075504      0.065841   \n",
       "2                         0.014294  0.094209      0.044991   \n",
       "3                         0.011039  0.092042      0.043756   \n",
       "4                         0.012061  0.108018      0.052617   \n",
       "...                            ...       ...           ...   \n",
       "111617                    0.010648  0.113988      0.045117   \n",
       "111618                    0.010652  0.097625      0.052185   \n",
       "111619                    0.011919  0.098682      0.048214   \n",
       "111620                    0.011590  0.109419      0.045566   \n",
       "111621                    0.011384  0.115697      0.048854   \n",
       "\n",
       "        SpectralCentroid Mean  ...  Text Area Distribution bin_118  \\\n",
       "0                 3808.067871  ...                        0.251688   \n",
       "1                 3466.266113  ...                        0.206926   \n",
       "2                 3798.196533  ...                        0.185767   \n",
       "3                 3761.712402  ...                        0.165600   \n",
       "4                 3784.488037  ...                        0.159495   \n",
       "...                       ...  ...                             ...   \n",
       "111617            3736.336670  ...                        0.066948   \n",
       "111618            3305.738037  ...                        0.101005   \n",
       "111619            3637.395508  ...                        0.085835   \n",
       "111620            3706.726074  ...                        0.064876   \n",
       "111621            3430.919189  ...                        0.055890   \n",
       "\n",
       "        Text Area Distribution bin_119  Bag Audio Words bin_491  \\\n",
       "0                             0.176144                 0.069915   \n",
       "1                             0.051774                 0.075630   \n",
       "2                             0.038852                 0.069712   \n",
       "3                             0.003983                 0.135802   \n",
       "4                             0.000066                 0.021127   \n",
       "...                                ...                      ...   \n",
       "111617                        0.051338                 0.041139   \n",
       "111618                        0.073604                 0.050000   \n",
       "111619                        0.066839                 0.076271   \n",
       "111620                        0.053495                 0.037879   \n",
       "111621                        0.044086                 0.026693   \n",
       "\n",
       "        Bag Audio Words bin_572  Bag Audio Words bin_573  \\\n",
       "0                      0.141949                 0.103814   \n",
       "1                      0.012605                 0.037815   \n",
       "2                      0.038462                 0.088942   \n",
       "3                      0.012346                 0.086420   \n",
       "4                      0.007042                 0.154930   \n",
       "...                         ...                      ...   \n",
       "111617                 0.072785                 0.303797   \n",
       "111618                 0.075000                 0.537500   \n",
       "111619                 0.114407                 0.161017   \n",
       "111620                 0.064394                 0.352273   \n",
       "111621                 0.111328                 0.236328   \n",
       "\n",
       "        Bag Audio Words bin_623  Bag Audio Words bin_816  \\\n",
       "0                      0.050847                 0.036017   \n",
       "1                      0.086134                 0.023109   \n",
       "2                      0.139423                 0.052885   \n",
       "3                      0.212963                 0.077160   \n",
       "4                      0.151408                 0.017606   \n",
       "...                         ...                      ...   \n",
       "111617                 0.110759                 0.069620   \n",
       "111618                 0.100000                 0.012500   \n",
       "111619                 0.063559                 0.008475   \n",
       "111620                 0.125000                 0.045455   \n",
       "111621                 0.054036                 0.037760   \n",
       "\n",
       "        Edge Change Ratio Mean  Edge Change Ratio Variance  Label  \n",
       "0                     0.422334                    0.663918      1  \n",
       "1                     0.332664                    0.766184      1  \n",
       "2                     0.346674                    0.225022      1  \n",
       "3                     0.993323                    0.840083      1  \n",
       "4                     0.341520                    0.710470      1  \n",
       "...                        ...                         ...    ...  \n",
       "111617                0.672047                    0.647189      1  \n",
       "111618                0.180709                    0.103151      1  \n",
       "111619                0.202583                    0.046392      1  \n",
       "111620                0.977861                    0.410044      1  \n",
       "111621                0.815039                    0.932283      1  \n",
       "\n",
       "[93559 rows x 98 columns]"
      ]
     },
     "execution_count": 16,
     "metadata": {},
     "output_type": "execute_result"
    }
   ],
   "source": [
    "clean_dataset"
   ]
  },
  {
   "cell_type": "code",
   "execution_count": 46,
   "metadata": {},
   "outputs": [],
   "source": [
    "# clean_dataset.to_csv('data_cleaned.csv') "
   ]
  },
  {
   "cell_type": "code",
   "execution_count": 15,
   "metadata": {},
   "outputs": [],
   "source": [
    "# clean_dataset = pd.read_csv('./data_cleaned.csv')\n",
    "\n",
    "# clean_dataset = clean_dataset.drop(['Unnamed: 0'], axis=1)"
   ]
  },
  {
   "cell_type": "code",
   "execution_count": 4,
   "metadata": {},
   "outputs": [],
   "source": [
    "# Loading all the required python libraries\n",
    "import numpy as np\n",
    "import pandas as pd\n",
    "import matplotlib.pyplot as plt\n",
    "%matplotlib inline\n",
    "from sklearn.model_selection import train_test_split\n",
    "from sklearn.preprocessing import StandardScaler\n",
    "from sklearn.preprocessing import LabelEncoder\n",
    "from sklearn.naive_bayes import GaussianNB\n",
    "from sklearn.preprocessing import label_binarize\n",
    "from sklearn.multiclass import OneVsRestClassifier\n",
    "from sklearn.metrics import *"
   ]
  },
  {
   "cell_type": "code",
   "execution_count": 16,
   "metadata": {},
   "outputs": [
    {
     "data": {
      "text/html": [
       "<div>\n",
       "<style scoped>\n",
       "    .dataframe tbody tr th:only-of-type {\n",
       "        vertical-align: middle;\n",
       "    }\n",
       "\n",
       "    .dataframe tbody tr th {\n",
       "        vertical-align: top;\n",
       "    }\n",
       "\n",
       "    .dataframe thead th {\n",
       "        text-align: right;\n",
       "    }\n",
       "</style>\n",
       "<table border=\"1\" class=\"dataframe\">\n",
       "  <thead>\n",
       "    <tr style=\"text-align: right;\">\n",
       "      <th></th>\n",
       "      <th>Shot Length</th>\n",
       "      <th>Motion Distribution Mean</th>\n",
       "      <th>Motion Distribution Variance</th>\n",
       "      <th>Frame Difference Distribution Mean</th>\n",
       "      <th>Frame Difference Distribution Variance</th>\n",
       "      <th>Short time energy Mean</th>\n",
       "      <th>Short time energy Variance</th>\n",
       "      <th>ZCR Mean</th>\n",
       "      <th>ZCR Variance</th>\n",
       "      <th>SpectralCentroid Mean</th>\n",
       "      <th>...</th>\n",
       "      <th>Text Area Distribution bin_117</th>\n",
       "      <th>Text Area Distribution bin_118</th>\n",
       "      <th>Text Area Distribution bin_119</th>\n",
       "      <th>Bag Audio Words bin_491</th>\n",
       "      <th>Bag Audio Words bin_572</th>\n",
       "      <th>Bag Audio Words bin_573</th>\n",
       "      <th>Bag Audio Words bin_623</th>\n",
       "      <th>Bag Audio Words bin_816</th>\n",
       "      <th>Edge Change Ratio Mean</th>\n",
       "      <th>Edge Change Ratio Variance</th>\n",
       "    </tr>\n",
       "  </thead>\n",
       "  <tbody>\n",
       "    <tr>\n",
       "      <th>0</th>\n",
       "      <td>123</td>\n",
       "      <td>1.316440</td>\n",
       "      <td>1.516003</td>\n",
       "      <td>5.605905</td>\n",
       "      <td>5.346760</td>\n",
       "      <td>0.013233</td>\n",
       "      <td>0.010729</td>\n",
       "      <td>0.091743</td>\n",
       "      <td>0.050768</td>\n",
       "      <td>3808.067871</td>\n",
       "      <td>...</td>\n",
       "      <td>0.160327</td>\n",
       "      <td>0.251688</td>\n",
       "      <td>0.176144</td>\n",
       "      <td>0.069915</td>\n",
       "      <td>0.141949</td>\n",
       "      <td>0.103814</td>\n",
       "      <td>0.050847</td>\n",
       "      <td>0.036017</td>\n",
       "      <td>0.422334</td>\n",
       "      <td>0.663918</td>\n",
       "    </tr>\n",
       "    <tr>\n",
       "      <th>1</th>\n",
       "      <td>124</td>\n",
       "      <td>0.966079</td>\n",
       "      <td>0.546420</td>\n",
       "      <td>4.046537</td>\n",
       "      <td>3.190973</td>\n",
       "      <td>0.008338</td>\n",
       "      <td>0.011490</td>\n",
       "      <td>0.075504</td>\n",
       "      <td>0.065841</td>\n",
       "      <td>3466.266113</td>\n",
       "      <td>...</td>\n",
       "      <td>0.193530</td>\n",
       "      <td>0.206926</td>\n",
       "      <td>0.051774</td>\n",
       "      <td>0.075630</td>\n",
       "      <td>0.012605</td>\n",
       "      <td>0.037815</td>\n",
       "      <td>0.086134</td>\n",
       "      <td>0.023109</td>\n",
       "      <td>0.332664</td>\n",
       "      <td>0.766184</td>\n",
       "    </tr>\n",
       "    <tr>\n",
       "      <th>2</th>\n",
       "      <td>109</td>\n",
       "      <td>2.035407</td>\n",
       "      <td>0.571643</td>\n",
       "      <td>9.551406</td>\n",
       "      <td>5.803685</td>\n",
       "      <td>0.015189</td>\n",
       "      <td>0.014294</td>\n",
       "      <td>0.094209</td>\n",
       "      <td>0.044991</td>\n",
       "      <td>3798.196533</td>\n",
       "      <td>...</td>\n",
       "      <td>0.145836</td>\n",
       "      <td>0.185767</td>\n",
       "      <td>0.038852</td>\n",
       "      <td>0.069712</td>\n",
       "      <td>0.038462</td>\n",
       "      <td>0.088942</td>\n",
       "      <td>0.139423</td>\n",
       "      <td>0.052885</td>\n",
       "      <td>0.346674</td>\n",
       "      <td>0.225022</td>\n",
       "    </tr>\n",
       "    <tr>\n",
       "      <th>3</th>\n",
       "      <td>86</td>\n",
       "      <td>3.206008</td>\n",
       "      <td>0.786326</td>\n",
       "      <td>10.092709</td>\n",
       "      <td>2.693058</td>\n",
       "      <td>0.013962</td>\n",
       "      <td>0.011039</td>\n",
       "      <td>0.092042</td>\n",
       "      <td>0.043756</td>\n",
       "      <td>3761.712402</td>\n",
       "      <td>...</td>\n",
       "      <td>0.114123</td>\n",
       "      <td>0.165600</td>\n",
       "      <td>0.003983</td>\n",
       "      <td>0.135802</td>\n",
       "      <td>0.012346</td>\n",
       "      <td>0.086420</td>\n",
       "      <td>0.212963</td>\n",
       "      <td>0.077160</td>\n",
       "      <td>0.993323</td>\n",
       "      <td>0.840083</td>\n",
       "    </tr>\n",
       "    <tr>\n",
       "      <th>4</th>\n",
       "      <td>76</td>\n",
       "      <td>3.135861</td>\n",
       "      <td>0.896346</td>\n",
       "      <td>10.348035</td>\n",
       "      <td>2.651010</td>\n",
       "      <td>0.020914</td>\n",
       "      <td>0.012061</td>\n",
       "      <td>0.108018</td>\n",
       "      <td>0.052617</td>\n",
       "      <td>3784.488037</td>\n",
       "      <td>...</td>\n",
       "      <td>0.117717</td>\n",
       "      <td>0.159495</td>\n",
       "      <td>0.000066</td>\n",
       "      <td>0.021127</td>\n",
       "      <td>0.007042</td>\n",
       "      <td>0.154930</td>\n",
       "      <td>0.151408</td>\n",
       "      <td>0.017606</td>\n",
       "      <td>0.341520</td>\n",
       "      <td>0.710470</td>\n",
       "    </tr>\n",
       "  </tbody>\n",
       "</table>\n",
       "<p>5 rows × 97 columns</p>\n",
       "</div>"
      ],
      "text/plain": [
       "   Shot Length  Motion Distribution Mean  Motion Distribution Variance  \\\n",
       "0          123                  1.316440                      1.516003   \n",
       "1          124                  0.966079                      0.546420   \n",
       "2          109                  2.035407                      0.571643   \n",
       "3           86                  3.206008                      0.786326   \n",
       "4           76                  3.135861                      0.896346   \n",
       "\n",
       "   Frame Difference Distribution Mean  Frame Difference Distribution Variance  \\\n",
       "0                            5.605905                                5.346760   \n",
       "1                            4.046537                                3.190973   \n",
       "2                            9.551406                                5.803685   \n",
       "3                           10.092709                                2.693058   \n",
       "4                           10.348035                                2.651010   \n",
       "\n",
       "   Short time energy Mean  Short time energy Variance  ZCR Mean  ZCR Variance  \\\n",
       "0                0.013233                    0.010729  0.091743      0.050768   \n",
       "1                0.008338                    0.011490  0.075504      0.065841   \n",
       "2                0.015189                    0.014294  0.094209      0.044991   \n",
       "3                0.013962                    0.011039  0.092042      0.043756   \n",
       "4                0.020914                    0.012061  0.108018      0.052617   \n",
       "\n",
       "   SpectralCentroid Mean  ...  Text Area Distribution bin_117  \\\n",
       "0            3808.067871  ...                        0.160327   \n",
       "1            3466.266113  ...                        0.193530   \n",
       "2            3798.196533  ...                        0.145836   \n",
       "3            3761.712402  ...                        0.114123   \n",
       "4            3784.488037  ...                        0.117717   \n",
       "\n",
       "   Text Area Distribution bin_118  Text Area Distribution bin_119  \\\n",
       "0                        0.251688                        0.176144   \n",
       "1                        0.206926                        0.051774   \n",
       "2                        0.185767                        0.038852   \n",
       "3                        0.165600                        0.003983   \n",
       "4                        0.159495                        0.000066   \n",
       "\n",
       "   Bag Audio Words bin_491  Bag Audio Words bin_572  Bag Audio Words bin_573  \\\n",
       "0                 0.069915                 0.141949                 0.103814   \n",
       "1                 0.075630                 0.012605                 0.037815   \n",
       "2                 0.069712                 0.038462                 0.088942   \n",
       "3                 0.135802                 0.012346                 0.086420   \n",
       "4                 0.021127                 0.007042                 0.154930   \n",
       "\n",
       "   Bag Audio Words bin_623  Bag Audio Words bin_816  Edge Change Ratio Mean  \\\n",
       "0                 0.050847                 0.036017                0.422334   \n",
       "1                 0.086134                 0.023109                0.332664   \n",
       "2                 0.139423                 0.052885                0.346674   \n",
       "3                 0.212963                 0.077160                0.993323   \n",
       "4                 0.151408                 0.017606                0.341520   \n",
       "\n",
       "   Edge Change Ratio Variance  \n",
       "0                    0.663918  \n",
       "1                    0.766184  \n",
       "2                    0.225022  \n",
       "3                    0.840083  \n",
       "4                    0.710470  \n",
       "\n",
       "[5 rows x 97 columns]"
      ]
     },
     "execution_count": 16,
     "metadata": {},
     "output_type": "execute_result"
    }
   ],
   "source": [
    "df = clean_dataset\n",
    "X=df.drop('Label',axis=1) #Predictors\n",
    "y=df['Label'] #Response\n",
    "X.head()"
   ]
  },
  {
   "cell_type": "markdown",
   "metadata": {},
   "source": [
    "### Feature Scalling"
   ]
  },
  {
   "cell_type": "code",
   "execution_count": 151,
   "metadata": {},
   "outputs": [],
   "source": [
    "# # Rescale the data\n",
    "# from sklearn.preprocessing import MinMaxScaler\n",
    "# scaler = MinMaxScaler(feature_range=(0,1))\n",
    "# rescaledX = scaler.fit_transform(X)\n",
    "\n",
    "# # Convert X back to a Pandas DataFrame, for convenience\n",
    "# X = pd.DataFrame(rescaledX, columns=X.columns)\n",
    "# X.head()"
   ]
  },
  {
   "cell_type": "markdown",
   "metadata": {},
   "source": [
    "### Split Data"
   ]
  },
  {
   "cell_type": "code",
   "execution_count": 17,
   "metadata": {},
   "outputs": [],
   "source": [
    "# split X and y into training and testing sets\n",
    "\n",
    "from sklearn.model_selection import train_test_split\n",
    "\n",
    "X_train, X_test, y_train, y_test = train_test_split(X, y, test_size = 0.3, random_state = 0)"
   ]
  },
  {
   "cell_type": "code",
   "execution_count": 18,
   "metadata": {},
   "outputs": [
    {
     "data": {
      "text/plain": [
       "((65491, 97), (28068, 97))"
      ]
     },
     "execution_count": 18,
     "metadata": {},
     "output_type": "execute_result"
    }
   ],
   "source": [
    "# check the shape of X_train and X_test\n",
    "\n",
    "X_train.shape, X_test.shape"
   ]
  },
  {
   "cell_type": "code",
   "execution_count": 19,
   "metadata": {},
   "outputs": [
    {
     "data": {
      "text/plain": [
       "Shot Length                                 int64\n",
       "Motion Distribution Mean                  float64\n",
       "Motion Distribution Variance              float64\n",
       "Frame Difference Distribution Mean        float64\n",
       "Frame Difference Distribution Variance    float64\n",
       "                                           ...   \n",
       "Bag Audio Words bin_573                   float64\n",
       "Bag Audio Words bin_623                   float64\n",
       "Bag Audio Words bin_816                   float64\n",
       "Edge Change Ratio Mean                    float64\n",
       "Edge Change Ratio Variance                float64\n",
       "Length: 97, dtype: object"
      ]
     },
     "execution_count": 19,
     "metadata": {},
     "output_type": "execute_result"
    }
   ],
   "source": [
    "# check data types in X_train\n",
    "\n",
    "X_train.dtypes"
   ]
  },
  {
   "cell_type": "code",
   "execution_count": 20,
   "metadata": {},
   "outputs": [],
   "source": [
    "cols = X_train.columns"
   ]
  },
  {
   "cell_type": "markdown",
   "metadata": {},
   "source": [
    "#### Feature Scaling"
   ]
  },
  {
   "cell_type": "code",
   "execution_count": 21,
   "metadata": {},
   "outputs": [],
   "source": [
    "# from sklearn.preprocessing import RobustScaler\n",
    "from sklearn.preprocessing import MinMaxScaler\n",
    "\n",
    "scaler = MinMaxScaler(feature_range=(0,1))\n",
    "\n",
    "X_train = scaler.fit_transform(X_train)\n",
    "\n",
    "X_test = scaler.transform(X_test)"
   ]
  },
  {
   "cell_type": "code",
   "execution_count": 22,
   "metadata": {},
   "outputs": [],
   "source": [
    "X_train = pd.DataFrame(X_train, columns=[cols])"
   ]
  },
  {
   "cell_type": "code",
   "execution_count": 23,
   "metadata": {},
   "outputs": [],
   "source": [
    "X_test = pd.DataFrame(X_test, columns=[cols])"
   ]
  },
  {
   "cell_type": "code",
   "execution_count": 24,
   "metadata": {},
   "outputs": [
    {
     "data": {
      "text/html": [
       "<div>\n",
       "<style scoped>\n",
       "    .dataframe tbody tr th:only-of-type {\n",
       "        vertical-align: middle;\n",
       "    }\n",
       "\n",
       "    .dataframe tbody tr th {\n",
       "        vertical-align: top;\n",
       "    }\n",
       "\n",
       "    .dataframe thead tr th {\n",
       "        text-align: left;\n",
       "    }\n",
       "</style>\n",
       "<table border=\"1\" class=\"dataframe\">\n",
       "  <thead>\n",
       "    <tr>\n",
       "      <th></th>\n",
       "      <th>Shot Length</th>\n",
       "      <th>Motion Distribution Mean</th>\n",
       "      <th>Motion Distribution Variance</th>\n",
       "      <th>Frame Difference Distribution Mean</th>\n",
       "      <th>Frame Difference Distribution Variance</th>\n",
       "      <th>Short time energy Mean</th>\n",
       "      <th>Short time energy Variance</th>\n",
       "      <th>ZCR Mean</th>\n",
       "      <th>ZCR Variance</th>\n",
       "      <th>SpectralCentroid Mean</th>\n",
       "      <th>...</th>\n",
       "      <th>Text Area Distribution bin_117</th>\n",
       "      <th>Text Area Distribution bin_118</th>\n",
       "      <th>Text Area Distribution bin_119</th>\n",
       "      <th>Bag Audio Words bin_491</th>\n",
       "      <th>Bag Audio Words bin_572</th>\n",
       "      <th>Bag Audio Words bin_573</th>\n",
       "      <th>Bag Audio Words bin_623</th>\n",
       "      <th>Bag Audio Words bin_816</th>\n",
       "      <th>Edge Change Ratio Mean</th>\n",
       "      <th>Edge Change Ratio Variance</th>\n",
       "    </tr>\n",
       "  </thead>\n",
       "  <tbody>\n",
       "    <tr>\n",
       "      <th>0</th>\n",
       "      <td>0.005230</td>\n",
       "      <td>0.071107</td>\n",
       "      <td>0.020965</td>\n",
       "      <td>0.141544</td>\n",
       "      <td>0.059095</td>\n",
       "      <td>0.551036</td>\n",
       "      <td>0.360105</td>\n",
       "      <td>0.163662</td>\n",
       "      <td>0.225366</td>\n",
       "      <td>0.959525</td>\n",
       "      <td>...</td>\n",
       "      <td>0.622872</td>\n",
       "      <td>0.596715</td>\n",
       "      <td>0.490019</td>\n",
       "      <td>0.014544</td>\n",
       "      <td>0.491583</td>\n",
       "      <td>0.219900</td>\n",
       "      <td>0.019664</td>\n",
       "      <td>0.002549</td>\n",
       "      <td>0.391682</td>\n",
       "      <td>0.283720</td>\n",
       "    </tr>\n",
       "    <tr>\n",
       "      <th>1</th>\n",
       "      <td>0.000355</td>\n",
       "      <td>0.097183</td>\n",
       "      <td>0.093139</td>\n",
       "      <td>0.234735</td>\n",
       "      <td>0.467113</td>\n",
       "      <td>0.235876</td>\n",
       "      <td>0.276289</td>\n",
       "      <td>0.248315</td>\n",
       "      <td>0.228290</td>\n",
       "      <td>0.882418</td>\n",
       "      <td>...</td>\n",
       "      <td>0.600854</td>\n",
       "      <td>0.530811</td>\n",
       "      <td>0.287224</td>\n",
       "      <td>0.008887</td>\n",
       "      <td>0.244905</td>\n",
       "      <td>0.203440</td>\n",
       "      <td>0.098523</td>\n",
       "      <td>0.025545</td>\n",
       "      <td>0.152515</td>\n",
       "      <td>0.967127</td>\n",
       "    </tr>\n",
       "    <tr>\n",
       "      <th>2</th>\n",
       "      <td>0.001595</td>\n",
       "      <td>0.000000</td>\n",
       "      <td>0.000000</td>\n",
       "      <td>0.000000</td>\n",
       "      <td>0.000000</td>\n",
       "      <td>0.000000</td>\n",
       "      <td>0.000000</td>\n",
       "      <td>0.000000</td>\n",
       "      <td>0.000000</td>\n",
       "      <td>0.000000</td>\n",
       "      <td>...</td>\n",
       "      <td>0.322339</td>\n",
       "      <td>0.359766</td>\n",
       "      <td>0.239838</td>\n",
       "      <td>0.112501</td>\n",
       "      <td>0.118083</td>\n",
       "      <td>0.203440</td>\n",
       "      <td>0.098523</td>\n",
       "      <td>0.071736</td>\n",
       "      <td>0.493257</td>\n",
       "      <td>0.196614</td>\n",
       "    </tr>\n",
       "    <tr>\n",
       "      <th>3</th>\n",
       "      <td>0.001566</td>\n",
       "      <td>0.022505</td>\n",
       "      <td>0.011289</td>\n",
       "      <td>0.038182</td>\n",
       "      <td>0.024869</td>\n",
       "      <td>0.380003</td>\n",
       "      <td>0.683368</td>\n",
       "      <td>0.304528</td>\n",
       "      <td>0.410572</td>\n",
       "      <td>0.907221</td>\n",
       "      <td>...</td>\n",
       "      <td>0.198891</td>\n",
       "      <td>0.233629</td>\n",
       "      <td>0.220116</td>\n",
       "      <td>0.114996</td>\n",
       "      <td>0.010304</td>\n",
       "      <td>0.101032</td>\n",
       "      <td>0.110281</td>\n",
       "      <td>0.105261</td>\n",
       "      <td>0.441817</td>\n",
       "      <td>0.617802</td>\n",
       "    </tr>\n",
       "    <tr>\n",
       "      <th>4</th>\n",
       "      <td>0.000000</td>\n",
       "      <td>0.068543</td>\n",
       "      <td>0.020722</td>\n",
       "      <td>0.154148</td>\n",
       "      <td>0.110021</td>\n",
       "      <td>0.321393</td>\n",
       "      <td>0.500981</td>\n",
       "      <td>0.275630</td>\n",
       "      <td>0.257534</td>\n",
       "      <td>0.837573</td>\n",
       "      <td>...</td>\n",
       "      <td>0.639490</td>\n",
       "      <td>0.690572</td>\n",
       "      <td>0.436983</td>\n",
       "      <td>0.260743</td>\n",
       "      <td>0.118083</td>\n",
       "      <td>0.190408</td>\n",
       "      <td>0.098523</td>\n",
       "      <td>0.068524</td>\n",
       "      <td>0.854968</td>\n",
       "      <td>0.343530</td>\n",
       "    </tr>\n",
       "  </tbody>\n",
       "</table>\n",
       "<p>5 rows × 97 columns</p>\n",
       "</div>"
      ],
      "text/plain": [
       "  Shot Length Motion Distribution Mean Motion Distribution Variance  \\\n",
       "0    0.005230                 0.071107                     0.020965   \n",
       "1    0.000355                 0.097183                     0.093139   \n",
       "2    0.001595                 0.000000                     0.000000   \n",
       "3    0.001566                 0.022505                     0.011289   \n",
       "4    0.000000                 0.068543                     0.020722   \n",
       "\n",
       "  Frame Difference Distribution Mean Frame Difference Distribution Variance  \\\n",
       "0                           0.141544                               0.059095   \n",
       "1                           0.234735                               0.467113   \n",
       "2                           0.000000                               0.000000   \n",
       "3                           0.038182                               0.024869   \n",
       "4                           0.154148                               0.110021   \n",
       "\n",
       "  Short time energy Mean Short time energy Variance  ZCR Mean ZCR Variance  \\\n",
       "0               0.551036                   0.360105  0.163662     0.225366   \n",
       "1               0.235876                   0.276289  0.248315     0.228290   \n",
       "2               0.000000                   0.000000  0.000000     0.000000   \n",
       "3               0.380003                   0.683368  0.304528     0.410572   \n",
       "4               0.321393                   0.500981  0.275630     0.257534   \n",
       "\n",
       "  SpectralCentroid Mean  ... Text Area Distribution bin_117  \\\n",
       "0              0.959525  ...                       0.622872   \n",
       "1              0.882418  ...                       0.600854   \n",
       "2              0.000000  ...                       0.322339   \n",
       "3              0.907221  ...                       0.198891   \n",
       "4              0.837573  ...                       0.639490   \n",
       "\n",
       "  Text Area Distribution bin_118 Text Area Distribution bin_119  \\\n",
       "0                       0.596715                       0.490019   \n",
       "1                       0.530811                       0.287224   \n",
       "2                       0.359766                       0.239838   \n",
       "3                       0.233629                       0.220116   \n",
       "4                       0.690572                       0.436983   \n",
       "\n",
       "  Bag Audio Words bin_491 Bag Audio Words bin_572 Bag Audio Words bin_573  \\\n",
       "0                0.014544                0.491583                0.219900   \n",
       "1                0.008887                0.244905                0.203440   \n",
       "2                0.112501                0.118083                0.203440   \n",
       "3                0.114996                0.010304                0.101032   \n",
       "4                0.260743                0.118083                0.190408   \n",
       "\n",
       "  Bag Audio Words bin_623 Bag Audio Words bin_816 Edge Change Ratio Mean  \\\n",
       "0                0.019664                0.002549               0.391682   \n",
       "1                0.098523                0.025545               0.152515   \n",
       "2                0.098523                0.071736               0.493257   \n",
       "3                0.110281                0.105261               0.441817   \n",
       "4                0.098523                0.068524               0.854968   \n",
       "\n",
       "  Edge Change Ratio Variance  \n",
       "0                   0.283720  \n",
       "1                   0.967127  \n",
       "2                   0.196614  \n",
       "3                   0.617802  \n",
       "4                   0.343530  \n",
       "\n",
       "[5 rows x 97 columns]"
      ]
     },
     "execution_count": 24,
     "metadata": {},
     "output_type": "execute_result"
    }
   ],
   "source": [
    "X_train.head()"
   ]
  },
  {
   "cell_type": "code",
   "execution_count": 25,
   "metadata": {},
   "outputs": [
    {
     "data": {
      "text/plain": [
       "GaussianNB()"
      ]
     },
     "execution_count": 25,
     "metadata": {},
     "output_type": "execute_result"
    }
   ],
   "source": [
    "# train a Gaussian Naive Bayes classifier on the training set\n",
    "from sklearn.naive_bayes import GaussianNB\n",
    "\n",
    "\n",
    "# instantiate the model\n",
    "gnb = GaussianNB()\n",
    "\n",
    "# fit the model\n",
    "gnb.fit(X_train, y_train)"
   ]
  },
  {
   "cell_type": "code",
   "execution_count": 28,
   "metadata": {},
   "outputs": [
    {
     "data": {
      "text/plain": [
       "array([1, 1, 1, ..., 1, 1, 1], dtype=int64)"
      ]
     },
     "execution_count": 28,
     "metadata": {},
     "output_type": "execute_result"
    }
   ],
   "source": [
    "y_pred = gnb.predict(X_test)\n",
    "\n",
    "y_pred"
   ]
  },
  {
   "cell_type": "code",
   "execution_count": 29,
   "metadata": {},
   "outputs": [
    {
     "name": "stdout",
     "output_type": "stream",
     "text": [
      "Model accuracy score: 0.7413\n"
     ]
    }
   ],
   "source": [
    "from sklearn.metrics import accuracy_score\n",
    "\n",
    "print('Model accuracy score: {0:0.4f}'. format(accuracy_score(y_test, y_pred)))"
   ]
  },
  {
   "cell_type": "code",
   "execution_count": 30,
   "metadata": {},
   "outputs": [
    {
     "name": "stdout",
     "output_type": "stream",
     "text": [
      "Model accuracy score: 0.7438\n"
     ]
    }
   ],
   "source": [
    "y_pred_train = gnb.predict(X_train)\n",
    "\n",
    "print('Model accuracy score: {0:0.4f}'. format(accuracy_score(y_train, y_pred_train)))"
   ]
  },
  {
   "cell_type": "code",
   "execution_count": 31,
   "metadata": {},
   "outputs": [
    {
     "name": "stdout",
     "output_type": "stream",
     "text": [
      "Training set score: 0.7438\n",
      "Test set score: 0.7413\n"
     ]
    }
   ],
   "source": [
    "# print the scores on training and test set\n",
    "\n",
    "print('Training set score: {:.4f}'.format(gnb.score(X_train, y_train)))\n",
    "\n",
    "print('Test set score: {:.4f}'.format(gnb.score(X_test, y_test)))"
   ]
  },
  {
   "cell_type": "code",
   "execution_count": 32,
   "metadata": {},
   "outputs": [],
   "source": [
    "new = pd.read_excel('./new_data.xlsx')"
   ]
  },
  {
   "cell_type": "code",
   "execution_count": 33,
   "metadata": {},
   "outputs": [
    {
     "data": {
      "text/plain": [
       "array([1, 1], dtype=int64)"
      ]
     },
     "execution_count": 33,
     "metadata": {},
     "output_type": "execute_result"
    }
   ],
   "source": [
    "y_pred_train = gnb.predict(new)\n",
    "y_pred_train"
   ]
  },
  {
   "cell_type": "code",
   "execution_count": 34,
   "metadata": {},
   "outputs": [
    {
     "data": {
      "text/plain": [
       " 1    17698\n",
       "-1    10370\n",
       "Name: Label, dtype: int64"
      ]
     },
     "execution_count": 34,
     "metadata": {},
     "output_type": "execute_result"
    }
   ],
   "source": [
    "\n",
    "y_test.value_counts()"
   ]
  },
  {
   "cell_type": "code",
   "execution_count": 35,
   "metadata": {},
   "outputs": [
    {
     "name": "stdout",
     "output_type": "stream",
     "text": [
      "Null accuracy score: 0.6305\n"
     ]
    }
   ],
   "source": [
    "null_accuracy = (17698/(17698+10370))\n",
    "\n",
    "print('Null accuracy score: {0:0.4f}'. format(null_accuracy))"
   ]
  },
  {
   "cell_type": "code",
   "execution_count": 36,
   "metadata": {},
   "outputs": [],
   "source": [
    "import pickle\n",
    "pickle.dump(gnb,open('gnb.pkl', 'wb'))"
   ]
  },
  {
   "cell_type": "markdown",
   "metadata": {},
   "source": [
    "### Confussion Matrix"
   ]
  },
  {
   "cell_type": "code",
   "execution_count": 167,
   "metadata": {},
   "outputs": [
    {
     "name": "stdout",
     "output_type": "stream",
     "text": [
      "Confusion matrix\n",
      "\n",
      " [[ 5759  4611]\n",
      " [ 2651 15047]]\n",
      "\n",
      "True Positives(TP) =  5759\n",
      "\n",
      "True Negatives(TN) =  15047\n",
      "\n",
      "False Positives(FP) =  4611\n",
      "\n",
      "False Negatives(FN) =  2651\n"
     ]
    }
   ],
   "source": [
    "# Print the Confusion Matrix and slice it into four pieces\n",
    "\n",
    "from sklearn.metrics import confusion_matrix\n",
    "\n",
    "cm = confusion_matrix(y_test, y_pred)\n",
    "\n",
    "print('Confusion matrix\\n\\n', cm)\n",
    "\n",
    "print('\\nTrue Positives(TP) = ', cm[0,0])\n",
    "\n",
    "print('\\nTrue Negatives(TN) = ', cm[1,1])\n",
    "\n",
    "print('\\nFalse Positives(FP) = ', cm[0,1])\n",
    "\n",
    "print('\\nFalse Negatives(FN) = ', cm[1,0])"
   ]
  },
  {
   "cell_type": "code",
   "execution_count": 169,
   "metadata": {},
   "outputs": [
    {
     "data": {
      "text/plain": [
       "<AxesSubplot:>"
      ]
     },
     "execution_count": 169,
     "metadata": {},
     "output_type": "execute_result"
    },
    {
     "data": {
      "image/png": "[encoded data removed]",
      "text/plain": [
       "<Figure size 432x288 with 2 Axes>"
      ]
     },
     "metadata": {},
     "output_type": "display_data"
    }
   ],
   "source": [
    "# visualize confusion matrix with seaborn heatmap\n",
    "import seaborn as sns\n",
    "cm_matrix = pd.DataFrame(data=cm, columns=['Actual Positive:1', 'Actual Negative:0'], \n",
    "                                 index=['Predict Positive:1', 'Predict Negative:0'])\n",
    "\n",
    "sns.heatmap(cm_matrix, annot=True, fmt='d', cmap='YlGnBu')"
   ]
  },
  {
   "cell_type": "markdown",
   "metadata": {},
   "source": [
    "### Classification metrices"
   ]
  },
  {
   "cell_type": "code",
   "execution_count": 170,
   "metadata": {},
   "outputs": [
    {
     "name": "stdout",
     "output_type": "stream",
     "text": [
      "              precision    recall  f1-score   support\n",
      "\n",
      "          -1       0.68      0.56      0.61     10370\n",
      "           1       0.77      0.85      0.81     17698\n",
      "\n",
      "    accuracy                           0.74     28068\n",
      "   macro avg       0.73      0.70      0.71     28068\n",
      "weighted avg       0.74      0.74      0.73     28068\n",
      "\n"
     ]
    }
   ],
   "source": [
    "from sklearn.metrics import classification_report\n",
    "\n",
    "print(classification_report(y_test, y_pred))"
   ]
  },
  {
   "cell_type": "markdown",
   "metadata": {},
   "source": [
    "Classification accuracy"
   ]
  },
  {
   "cell_type": "code",
   "execution_count": 171,
   "metadata": {},
   "outputs": [],
   "source": [
    "TP = cm[0,0]\n",
    "TN = cm[1,1]\n",
    "FP = cm[0,1]\n",
    "FN = cm[1,0]"
   ]
  },
  {
   "cell_type": "code",
   "execution_count": 172,
   "metadata": {},
   "outputs": [
    {
     "name": "stdout",
     "output_type": "stream",
     "text": [
      "Classification accuracy : 0.7413\n"
     ]
    }
   ],
   "source": [
    "# print classification accuracy\n",
    "\n",
    "classification_accuracy = (TP + TN) / float(TP + TN + FP + FN)\n",
    "\n",
    "print('Classification accuracy : {0:0.4f}'.format(classification_accuracy))"
   ]
  },
  {
   "cell_type": "markdown",
   "metadata": {},
   "source": [
    "classification error"
   ]
  },
  {
   "cell_type": "code",
   "execution_count": 174,
   "metadata": {},
   "outputs": [
    {
     "name": "stdout",
     "output_type": "stream",
     "text": [
      "Classification error : 0.2587\n"
     ]
    }
   ],
   "source": [
    "# print classification error\n",
    "\n",
    "classification_error = (FP + FN) / float(TP + TN + FP + FN)\n",
    "\n",
    "print('Classification error : {0:0.4f}'.format(classification_error))"
   ]
  },
  {
   "cell_type": "code",
   "execution_count": 175,
   "metadata": {},
   "outputs": [
    {
     "name": "stdout",
     "output_type": "stream",
     "text": [
      "Precision : 0.5554\n"
     ]
    }
   ],
   "source": [
    "# print precision score\n",
    "\n",
    "precision = TP / float(TP + FP)\n",
    "\n",
    "\n",
    "print('Precision : {0:0.4f}'.format(precision))"
   ]
  },
  {
   "cell_type": "code",
   "execution_count": 176,
   "metadata": {},
   "outputs": [
    {
     "name": "stdout",
     "output_type": "stream",
     "text": [
      "Recall or Sensitivity : 0.6848\n"
     ]
    }
   ],
   "source": [
    "recall = TP / float(TP + FN)\n",
    "\n",
    "print('Recall or Sensitivity : {0:0.4f}'.format(recall))"
   ]
  },
  {
   "cell_type": "code",
   "execution_count": 177,
   "metadata": {},
   "outputs": [
    {
     "name": "stdout",
     "output_type": "stream",
     "text": [
      "True Positive Rate : 0.6848\n"
     ]
    }
   ],
   "source": [
    "true_positive_rate = TP / float(TP + FN)\n",
    "\n",
    "\n",
    "print('True Positive Rate : {0:0.4f}'.format(true_positive_rate))"
   ]
  },
  {
   "cell_type": "code",
   "execution_count": 178,
   "metadata": {},
   "outputs": [
    {
     "data": {
      "text/plain": [
       "array([[7.45208159e-03, 9.92547918e-01],\n",
       "       [9.83565332e-03, 9.90164347e-01],\n",
       "       [2.93099196e-05, 9.99970690e-01],\n",
       "       [2.35037038e-04, 9.99764963e-01],\n",
       "       [1.32480102e-03, 9.98675199e-01],\n",
       "       [9.99337299e-01, 6.62700823e-04],\n",
       "       [4.72778334e-02, 9.52722167e-01],\n",
       "       [2.13036796e-02, 9.78696320e-01],\n",
       "       [1.00000000e+00, 1.79649154e-22],\n",
       "       [4.69488468e-01, 5.30511532e-01]])"
      ]
     },
     "execution_count": 178,
     "metadata": {},
     "output_type": "execute_result"
    }
   ],
   "source": [
    "# print the first 10 predicted probabilities of two classes- 0 and 1\n",
    "\n",
    "y_pred_prob = gnb.predict_proba(X_test)[0:10]\n",
    "\n",
    "y_pred_prob"
   ]
  },
  {
   "cell_type": "markdown",
   "metadata": {},
   "source": [
    "### K-Fold Cross Validation"
   ]
  },
  {
   "cell_type": "code",
   "execution_count": 181,
   "metadata": {},
   "outputs": [
    {
     "name": "stdout",
     "output_type": "stream",
     "text": [
      "Cross-validation scores:[0.74778626 0.74866392 0.74667888 0.73858604 0.74408307 0.73660101\n",
      " 0.74545732 0.74851122 0.73492136 0.74270881]\n"
     ]
    }
   ],
   "source": [
    "# Applying 10-Fold Cross Validation\n",
    "\n",
    "from sklearn.model_selection import cross_val_score\n",
    "\n",
    "scores = cross_val_score(gnb, X_train, y_train, cv = 10, scoring='accuracy')\n",
    "\n",
    "print('Cross-validation scores:{}'.format(scores))"
   ]
  },
  {
   "cell_type": "code",
   "execution_count": 182,
   "metadata": {},
   "outputs": [
    {
     "name": "stdout",
     "output_type": "stream",
     "text": [
      "Average cross-validation score: 0.7434\n"
     ]
    }
   ],
   "source": [
    "# compute Average cross-validation score\n",
    "\n",
    "print('Average cross-validation score: {:.4f}'.format(scores.mean()))"
   ]
  },
  {
   "cell_type": "code",
   "execution_count": null,
   "metadata": {},
   "outputs": [],
   "source": []
  }
 ],
 "metadata": {
  "kernelspec": {
   "display_name": "Python 3",
   "language": "python",
   "name": "python3"
  },
  "language_info": {
   "codemirror_mode": {
    "name": "ipython",
    "version": 3
   },
   "file_extension": ".py",
   "mimetype": "text/x-python",
   "name": "python",
   "nbconvert_exporter": "python",
   "pygments_lexer": "ipython3",
   "version": "3.6.5"
  }
 },
 "nbformat": 4,
 "nbformat_minor": 2
}
